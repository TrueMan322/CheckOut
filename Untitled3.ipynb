{
  "nbformat": 4,
  "nbformat_minor": 0,
  "metadata": {
    "colab": {
      "provenance": []
    },
    "kernelspec": {
      "name": "python3",
      "display_name": "Python 3"
    },
    "language_info": {
      "name": "python"
    }
  },
  "cells": [
    {
      "cell_type": "markdown",
      "source": [
        "Анохин А.И.,\n",
        "Лабораторная работа №2,\n",
        "Анализ логов,\n",
        "вариант 6 (5 mod 16 + 1 = 6)"
      ],
      "metadata": {
        "id": "ol9ZpJaRyzkj"
      }
    },
    {
      "cell_type": "code",
      "execution_count": null,
      "metadata": {
        "colab": {
          "base_uri": "https://localhost:8080/"
        },
        "id": "yid2mNMCysMV",
        "outputId": "453418bc-dfae-46f9-8388-3f4e6b5bed1c"
      },
      "outputs": [
        {
          "output_type": "stream",
          "name": "stdout",
          "text": [
            "Cloning into 'loghub'...\n",
            "remote: Enumerating objects: 575, done.\u001b[K\n",
            "remote: Counting objects: 100% (171/171), done.\u001b[K\n",
            "remote: Compressing objects: 100% (38/38), done.\u001b[K\n",
            "remote: Total 575 (delta 145), reused 135 (delta 133), pack-reused 404\u001b[K\n",
            "Receiving objects: 100% (575/575), 7.27 MiB | 11.18 MiB/s, done.\n",
            "Resolving deltas: 100% (267/267), done.\n"
          ]
        }
      ],
      "source": [
        "import os.path\n",
        "\n",
        "if not os.path.isdir(\"./loghub/\"):\n",
        "    !git clone https://github.com/logpai/loghub"
      ]
    },
    {
      "cell_type": "markdown",
      "source": [
        "Используя регулярное выражение, извлекаем все поля записи лога и разделяем их на следующие группы.\n",
        "Дата (\\d{4}-\\d{2}-\\d{2});\n",
        "Время (\\d{2}:\\d{2}:\\d{2}\\,\\d{3});\n",
        "Уровень (\\w+);\n",
        "Процесс (\\[(.*)\\]);\n",
        "Компонент (\\S+);\n",
        "Контент (.*);"
      ],
      "metadata": {
        "id": "qi4c0C4Gz8YM"
      }
    },
    {
      "cell_type": "code",
      "source": [
        "import re\n",
        "\n",
        "pattern = r'(\\d{4}-\\d{2}-\\d{2})\\s(\\d{2}:\\d{2}:\\d{2},\\d{3})\\s(\\w+)\\s(\\[(.*)\\])+\\s(\\S+):\\s(.*)'"
      ],
      "metadata": {
        "id": "NBWX8yYKzSUV"
      },
      "execution_count": null,
      "outputs": []
    },
    {
      "cell_type": "markdown",
      "source": [
        "Инициализация базы данных:\n",
        "создаём каталог ./db для хранения файла базы данных SQLite"
      ],
      "metadata": {
        "id": "vzzC1m-N1qd3"
      }
    },
    {
      "cell_type": "code",
      "source": [
        "![ -d db ] || mkdir db"
      ],
      "metadata": {
        "id": "GyqxPEbp0igW"
      },
      "execution_count": null,
      "outputs": []
    },
    {
      "cell_type": "code",
      "source": [
        "import sqlite3\n",
        "\n",
        "db_path = './db/log-analysis.db'\n",
        "\n",
        "connection = sqlite3.connect(db_path)\n",
        "# Create курсора\n",
        "cursor = connection.cursor()\n",
        "\n",
        "cursor.execute(\"DROP TABLE IF EXISTS logs\")\n",
        "# Create таблицы\n",
        "cursor.execute(\"CREATE TABLE logs (id INTEGER PRIMARY KEY AUTOINCREMENT, datetime text, loglvl text, process text, component text, message text)\")\n",
        "\n",
        "# Save changes\n",
        "connection.commit()\n",
        "# Close курсора\n",
        "cursor.close()\n",
        "# Close connect to DB\n",
        "connection.close()"
      ],
      "metadata": {
        "id": "d_Ktk6u921hH"
      },
      "execution_count": 9,
      "outputs": []
    },
    {
      "cell_type": "markdown",
      "source": [
        "Парсинг логов и сохранение записей"
      ],
      "metadata": {
        "id": "WVm_lBY3348W"
      }
    },
    {
      "cell_type": "code",
      "source": [
        "# Conect to BD an create курсора\n",
        "connection = sqlite3.connect(db_path)\n",
        "cursor = connection.cursor()\n",
        "\n",
        "# очистка таблицы, чтобы не случилось дублирование логов\n",
        "cursor.execute(\"DELETE FROM logs\")\n",
        "\n",
        "\n",
        "with open('./loghub/Hadoop/Hadoop_2k.log', 'r', encoding='utf-8') as log_file:\n",
        "    for line in log_file:\n",
        "        log_match = re.match(pattern, line)\n",
        "        if log_match:\n",
        "            date = log_match.group(1)\n",
        "            time = log_match.group(2)\n",
        "            datetime = f\"{date} {time}\"\n",
        "            loglvl = log_match.group(3)\n",
        "            process = log_match.group(4)\n",
        "            component = log_match.group(5)\n",
        "            message = log_match.group(6)\n",
        "            values = (datetime, loglvl, process, component, message)\n",
        "            sql = \"INSERT INTO logs (datetime, loglvl, process, component, message) VALUES (?, ?, ?, ?, ?)\"\n",
        "            cursor.execute(sql, values) # запись данных в БД\n",
        "\n",
        "connection.commit()\n",
        "cursor.close()\n",
        "connection.close()"
      ],
      "metadata": {
        "id": "d_DEqeEn35Rr"
      },
      "execution_count": 12,
      "outputs": []
    },
    {
      "cell_type": "markdown",
      "source": [
        "Чтение записей"
      ],
      "metadata": {
        "id": "PrLrsSDa5jhk"
      }
    },
    {
      "cell_type": "code",
      "source": [
        "import pandas as pd\n",
        "\n",
        "# Connect to DB\n",
        "connection = sqlite3.connect(db_path)\n",
        "cursor = connection.cursor()\n",
        "\n",
        "# выборка всех записей из таблицы\n",
        "cursor.execute(\"SELECT * FROM logs\")\n",
        "rows = cursor.fetchall()\n",
        "\n",
        "cursor.close()\n",
        "connection.close()\n",
        "\n",
        "# запись данных в объект DataFrame\n",
        "log_df = pd.DataFrame(rows, columns=(\"id\", \"Date\", \"Level\", \"Process Name\", \"Component\", \"Message\"))\n",
        "log_df"
      ],
      "metadata": {
        "colab": {
          "base_uri": "https://localhost:8080/",
          "height": 597
        },
        "id": "lOrBLSLu5npz",
        "outputId": "2d46b8bb-5538-49fa-b6a3-0e4d4f4761dc"
      },
      "execution_count": 14,
      "outputs": [
        {
          "output_type": "execute_result",
          "data": {
            "text/plain": [
              "        id                     Date  Level  \\\n",
              "0     2001  2015-10-18 18:01:47,978   INFO   \n",
              "1     2002  2015-10-18 18:01:48,963   INFO   \n",
              "2     2003  2015-10-18 18:01:48,963   INFO   \n",
              "3     2004  2015-10-18 18:01:49,228   INFO   \n",
              "4     2005  2015-10-18 18:01:50,353   INFO   \n",
              "...    ...                      ...    ...   \n",
              "1995  3996  2015-10-18 18:10:54,202   WARN   \n",
              "1996  3997  2015-10-18 18:10:54,202   WARN   \n",
              "1997  3998  2015-10-18 18:10:54,546   INFO   \n",
              "1998  3999  2015-10-18 18:10:54,546  ERROR   \n",
              "1999  4000  2015-10-18 18:10:55,202   WARN   \n",
              "\n",
              "                               Process Name  \\\n",
              "0                                    [main]   \n",
              "1                                    [main]   \n",
              "2                                    [main]   \n",
              "3                                    [main]   \n",
              "4                                    [main]   \n",
              "...                                     ...   \n",
              "1995  [LeaseRenewer:msrabi@msra-sa-41:9000]   \n",
              "1996  [LeaseRenewer:msrabi@msra-sa-41:9000]   \n",
              "1997             [RMCommunicator Allocator]   \n",
              "1998             [RMCommunicator Allocator]   \n",
              "1999  [LeaseRenewer:msrabi@msra-sa-41:9000]   \n",
              "\n",
              "                                Component  \\\n",
              "0                                    main   \n",
              "1                                    main   \n",
              "2                                    main   \n",
              "3                                    main   \n",
              "4                                    main   \n",
              "...                                   ...   \n",
              "1995  LeaseRenewer:msrabi@msra-sa-41:9000   \n",
              "1996  LeaseRenewer:msrabi@msra-sa-41:9000   \n",
              "1997             RMCommunicator Allocator   \n",
              "1998             RMCommunicator Allocator   \n",
              "1999  LeaseRenewer:msrabi@msra-sa-41:9000   \n",
              "\n",
              "                                                Message  \n",
              "0        org.apache.hadoop.mapreduce.v2.app.MRAppMaster  \n",
              "1        org.apache.hadoop.mapreduce.v2.app.MRAppMaster  \n",
              "2        org.apache.hadoop.mapreduce.v2.app.MRAppMaster  \n",
              "3        org.apache.hadoop.mapreduce.v2.app.MRAppMaster  \n",
              "4        org.apache.hadoop.mapreduce.v2.app.MRAppMaster  \n",
              "...                                                 ...  \n",
              "1995                       org.apache.hadoop.ipc.Client  \n",
              "1996                org.apache.hadoop.hdfs.LeaseRenewer  \n",
              "1997                       org.apache.hadoop.ipc.Client  \n",
              "1998  org.apache.hadoop.mapreduce.v2.app.rm.RMContai...  \n",
              "1999                       org.apache.hadoop.ipc.Client  \n",
              "\n",
              "[2000 rows x 6 columns]"
            ],
            "text/html": [
              "\n",
              "  <div id=\"df-b19c9ec2-4af1-490d-aa87-19681a1ccdcf\" class=\"colab-df-container\">\n",
              "    <div>\n",
              "<style scoped>\n",
              "    .dataframe tbody tr th:only-of-type {\n",
              "        vertical-align: middle;\n",
              "    }\n",
              "\n",
              "    .dataframe tbody tr th {\n",
              "        vertical-align: top;\n",
              "    }\n",
              "\n",
              "    .dataframe thead th {\n",
              "        text-align: right;\n",
              "    }\n",
              "</style>\n",
              "<table border=\"1\" class=\"dataframe\">\n",
              "  <thead>\n",
              "    <tr style=\"text-align: right;\">\n",
              "      <th></th>\n",
              "      <th>id</th>\n",
              "      <th>Date</th>\n",
              "      <th>Level</th>\n",
              "      <th>Process Name</th>\n",
              "      <th>Component</th>\n",
              "      <th>Message</th>\n",
              "    </tr>\n",
              "  </thead>\n",
              "  <tbody>\n",
              "    <tr>\n",
              "      <th>0</th>\n",
              "      <td>2001</td>\n",
              "      <td>2015-10-18 18:01:47,978</td>\n",
              "      <td>INFO</td>\n",
              "      <td>[main]</td>\n",
              "      <td>main</td>\n",
              "      <td>org.apache.hadoop.mapreduce.v2.app.MRAppMaster</td>\n",
              "    </tr>\n",
              "    <tr>\n",
              "      <th>1</th>\n",
              "      <td>2002</td>\n",
              "      <td>2015-10-18 18:01:48,963</td>\n",
              "      <td>INFO</td>\n",
              "      <td>[main]</td>\n",
              "      <td>main</td>\n",
              "      <td>org.apache.hadoop.mapreduce.v2.app.MRAppMaster</td>\n",
              "    </tr>\n",
              "    <tr>\n",
              "      <th>2</th>\n",
              "      <td>2003</td>\n",
              "      <td>2015-10-18 18:01:48,963</td>\n",
              "      <td>INFO</td>\n",
              "      <td>[main]</td>\n",
              "      <td>main</td>\n",
              "      <td>org.apache.hadoop.mapreduce.v2.app.MRAppMaster</td>\n",
              "    </tr>\n",
              "    <tr>\n",
              "      <th>3</th>\n",
              "      <td>2004</td>\n",
              "      <td>2015-10-18 18:01:49,228</td>\n",
              "      <td>INFO</td>\n",
              "      <td>[main]</td>\n",
              "      <td>main</td>\n",
              "      <td>org.apache.hadoop.mapreduce.v2.app.MRAppMaster</td>\n",
              "    </tr>\n",
              "    <tr>\n",
              "      <th>4</th>\n",
              "      <td>2005</td>\n",
              "      <td>2015-10-18 18:01:50,353</td>\n",
              "      <td>INFO</td>\n",
              "      <td>[main]</td>\n",
              "      <td>main</td>\n",
              "      <td>org.apache.hadoop.mapreduce.v2.app.MRAppMaster</td>\n",
              "    </tr>\n",
              "    <tr>\n",
              "      <th>...</th>\n",
              "      <td>...</td>\n",
              "      <td>...</td>\n",
              "      <td>...</td>\n",
              "      <td>...</td>\n",
              "      <td>...</td>\n",
              "      <td>...</td>\n",
              "    </tr>\n",
              "    <tr>\n",
              "      <th>1995</th>\n",
              "      <td>3996</td>\n",
              "      <td>2015-10-18 18:10:54,202</td>\n",
              "      <td>WARN</td>\n",
              "      <td>[LeaseRenewer:msrabi@msra-sa-41:9000]</td>\n",
              "      <td>LeaseRenewer:msrabi@msra-sa-41:9000</td>\n",
              "      <td>org.apache.hadoop.ipc.Client</td>\n",
              "    </tr>\n",
              "    <tr>\n",
              "      <th>1996</th>\n",
              "      <td>3997</td>\n",
              "      <td>2015-10-18 18:10:54,202</td>\n",
              "      <td>WARN</td>\n",
              "      <td>[LeaseRenewer:msrabi@msra-sa-41:9000]</td>\n",
              "      <td>LeaseRenewer:msrabi@msra-sa-41:9000</td>\n",
              "      <td>org.apache.hadoop.hdfs.LeaseRenewer</td>\n",
              "    </tr>\n",
              "    <tr>\n",
              "      <th>1997</th>\n",
              "      <td>3998</td>\n",
              "      <td>2015-10-18 18:10:54,546</td>\n",
              "      <td>INFO</td>\n",
              "      <td>[RMCommunicator Allocator]</td>\n",
              "      <td>RMCommunicator Allocator</td>\n",
              "      <td>org.apache.hadoop.ipc.Client</td>\n",
              "    </tr>\n",
              "    <tr>\n",
              "      <th>1998</th>\n",
              "      <td>3999</td>\n",
              "      <td>2015-10-18 18:10:54,546</td>\n",
              "      <td>ERROR</td>\n",
              "      <td>[RMCommunicator Allocator]</td>\n",
              "      <td>RMCommunicator Allocator</td>\n",
              "      <td>org.apache.hadoop.mapreduce.v2.app.rm.RMContai...</td>\n",
              "    </tr>\n",
              "    <tr>\n",
              "      <th>1999</th>\n",
              "      <td>4000</td>\n",
              "      <td>2015-10-18 18:10:55,202</td>\n",
              "      <td>WARN</td>\n",
              "      <td>[LeaseRenewer:msrabi@msra-sa-41:9000]</td>\n",
              "      <td>LeaseRenewer:msrabi@msra-sa-41:9000</td>\n",
              "      <td>org.apache.hadoop.ipc.Client</td>\n",
              "    </tr>\n",
              "  </tbody>\n",
              "</table>\n",
              "<p>2000 rows × 6 columns</p>\n",
              "</div>\n",
              "    <div class=\"colab-df-buttons\">\n",
              "\n",
              "  <div class=\"colab-df-container\">\n",
              "    <button class=\"colab-df-convert\" onclick=\"convertToInteractive('df-b19c9ec2-4af1-490d-aa87-19681a1ccdcf')\"\n",
              "            title=\"Convert this dataframe to an interactive table.\"\n",
              "            style=\"display:none;\">\n",
              "\n",
              "  <svg xmlns=\"http://www.w3.org/2000/svg\" height=\"24px\" viewBox=\"0 -960 960 960\">\n",
              "    <path d=\"M120-120v-720h720v720H120Zm60-500h600v-160H180v160Zm220 220h160v-160H400v160Zm0 220h160v-160H400v160ZM180-400h160v-160H180v160Zm440 0h160v-160H620v160ZM180-180h160v-160H180v160Zm440 0h160v-160H620v160Z\"/>\n",
              "  </svg>\n",
              "    </button>\n",
              "\n",
              "  <style>\n",
              "    .colab-df-container {\n",
              "      display:flex;\n",
              "      gap: 12px;\n",
              "    }\n",
              "\n",
              "    .colab-df-convert {\n",
              "      background-color: #E8F0FE;\n",
              "      border: none;\n",
              "      border-radius: 50%;\n",
              "      cursor: pointer;\n",
              "      display: none;\n",
              "      fill: #1967D2;\n",
              "      height: 32px;\n",
              "      padding: 0 0 0 0;\n",
              "      width: 32px;\n",
              "    }\n",
              "\n",
              "    .colab-df-convert:hover {\n",
              "      background-color: #E2EBFA;\n",
              "      box-shadow: 0px 1px 2px rgba(60, 64, 67, 0.3), 0px 1px 3px 1px rgba(60, 64, 67, 0.15);\n",
              "      fill: #174EA6;\n",
              "    }\n",
              "\n",
              "    .colab-df-buttons div {\n",
              "      margin-bottom: 4px;\n",
              "    }\n",
              "\n",
              "    [theme=dark] .colab-df-convert {\n",
              "      background-color: #3B4455;\n",
              "      fill: #D2E3FC;\n",
              "    }\n",
              "\n",
              "    [theme=dark] .colab-df-convert:hover {\n",
              "      background-color: #434B5C;\n",
              "      box-shadow: 0px 1px 3px 1px rgba(0, 0, 0, 0.15);\n",
              "      filter: drop-shadow(0px 1px 2px rgba(0, 0, 0, 0.3));\n",
              "      fill: #FFFFFF;\n",
              "    }\n",
              "  </style>\n",
              "\n",
              "    <script>\n",
              "      const buttonEl =\n",
              "        document.querySelector('#df-b19c9ec2-4af1-490d-aa87-19681a1ccdcf button.colab-df-convert');\n",
              "      buttonEl.style.display =\n",
              "        google.colab.kernel.accessAllowed ? 'block' : 'none';\n",
              "\n",
              "      async function convertToInteractive(key) {\n",
              "        const element = document.querySelector('#df-b19c9ec2-4af1-490d-aa87-19681a1ccdcf');\n",
              "        const dataTable =\n",
              "          await google.colab.kernel.invokeFunction('convertToInteractive',\n",
              "                                                    [key], {});\n",
              "        if (!dataTable) return;\n",
              "\n",
              "        const docLinkHtml = 'Like what you see? Visit the ' +\n",
              "          '<a target=\"_blank\" href=https://colab.research.google.com/notebooks/data_table.ipynb>data table notebook</a>'\n",
              "          + ' to learn more about interactive tables.';\n",
              "        element.innerHTML = '';\n",
              "        dataTable['output_type'] = 'display_data';\n",
              "        await google.colab.output.renderOutput(dataTable, element);\n",
              "        const docLink = document.createElement('div');\n",
              "        docLink.innerHTML = docLinkHtml;\n",
              "        element.appendChild(docLink);\n",
              "      }\n",
              "    </script>\n",
              "  </div>\n",
              "\n",
              "\n",
              "<div id=\"df-417fea99-b47f-4dae-8b41-990a33c077e8\">\n",
              "  <button class=\"colab-df-quickchart\" onclick=\"quickchart('df-417fea99-b47f-4dae-8b41-990a33c077e8')\"\n",
              "            title=\"Suggest charts\"\n",
              "            style=\"display:none;\">\n",
              "\n",
              "<svg xmlns=\"http://www.w3.org/2000/svg\" height=\"24px\"viewBox=\"0 0 24 24\"\n",
              "     width=\"24px\">\n",
              "    <g>\n",
              "        <path d=\"M19 3H5c-1.1 0-2 .9-2 2v14c0 1.1.9 2 2 2h14c1.1 0 2-.9 2-2V5c0-1.1-.9-2-2-2zM9 17H7v-7h2v7zm4 0h-2V7h2v10zm4 0h-2v-4h2v4z\"/>\n",
              "    </g>\n",
              "</svg>\n",
              "  </button>\n",
              "\n",
              "<style>\n",
              "  .colab-df-quickchart {\n",
              "      --bg-color: #E8F0FE;\n",
              "      --fill-color: #1967D2;\n",
              "      --hover-bg-color: #E2EBFA;\n",
              "      --hover-fill-color: #174EA6;\n",
              "      --disabled-fill-color: #AAA;\n",
              "      --disabled-bg-color: #DDD;\n",
              "  }\n",
              "\n",
              "  [theme=dark] .colab-df-quickchart {\n",
              "      --bg-color: #3B4455;\n",
              "      --fill-color: #D2E3FC;\n",
              "      --hover-bg-color: #434B5C;\n",
              "      --hover-fill-color: #FFFFFF;\n",
              "      --disabled-bg-color: #3B4455;\n",
              "      --disabled-fill-color: #666;\n",
              "  }\n",
              "\n",
              "  .colab-df-quickchart {\n",
              "    background-color: var(--bg-color);\n",
              "    border: none;\n",
              "    border-radius: 50%;\n",
              "    cursor: pointer;\n",
              "    display: none;\n",
              "    fill: var(--fill-color);\n",
              "    height: 32px;\n",
              "    padding: 0;\n",
              "    width: 32px;\n",
              "  }\n",
              "\n",
              "  .colab-df-quickchart:hover {\n",
              "    background-color: var(--hover-bg-color);\n",
              "    box-shadow: 0 1px 2px rgba(60, 64, 67, 0.3), 0 1px 3px 1px rgba(60, 64, 67, 0.15);\n",
              "    fill: var(--button-hover-fill-color);\n",
              "  }\n",
              "\n",
              "  .colab-df-quickchart-complete:disabled,\n",
              "  .colab-df-quickchart-complete:disabled:hover {\n",
              "    background-color: var(--disabled-bg-color);\n",
              "    fill: var(--disabled-fill-color);\n",
              "    box-shadow: none;\n",
              "  }\n",
              "\n",
              "  .colab-df-spinner {\n",
              "    border: 2px solid var(--fill-color);\n",
              "    border-color: transparent;\n",
              "    border-bottom-color: var(--fill-color);\n",
              "    animation:\n",
              "      spin 1s steps(1) infinite;\n",
              "  }\n",
              "\n",
              "  @keyframes spin {\n",
              "    0% {\n",
              "      border-color: transparent;\n",
              "      border-bottom-color: var(--fill-color);\n",
              "      border-left-color: var(--fill-color);\n",
              "    }\n",
              "    20% {\n",
              "      border-color: transparent;\n",
              "      border-left-color: var(--fill-color);\n",
              "      border-top-color: var(--fill-color);\n",
              "    }\n",
              "    30% {\n",
              "      border-color: transparent;\n",
              "      border-left-color: var(--fill-color);\n",
              "      border-top-color: var(--fill-color);\n",
              "      border-right-color: var(--fill-color);\n",
              "    }\n",
              "    40% {\n",
              "      border-color: transparent;\n",
              "      border-right-color: var(--fill-color);\n",
              "      border-top-color: var(--fill-color);\n",
              "    }\n",
              "    60% {\n",
              "      border-color: transparent;\n",
              "      border-right-color: var(--fill-color);\n",
              "    }\n",
              "    80% {\n",
              "      border-color: transparent;\n",
              "      border-right-color: var(--fill-color);\n",
              "      border-bottom-color: var(--fill-color);\n",
              "    }\n",
              "    90% {\n",
              "      border-color: transparent;\n",
              "      border-bottom-color: var(--fill-color);\n",
              "    }\n",
              "  }\n",
              "</style>\n",
              "\n",
              "  <script>\n",
              "    async function quickchart(key) {\n",
              "      const quickchartButtonEl =\n",
              "        document.querySelector('#' + key + ' button');\n",
              "      quickchartButtonEl.disabled = true;  // To prevent multiple clicks.\n",
              "      quickchartButtonEl.classList.add('colab-df-spinner');\n",
              "      try {\n",
              "        const charts = await google.colab.kernel.invokeFunction(\n",
              "            'suggestCharts', [key], {});\n",
              "      } catch (error) {\n",
              "        console.error('Error during call to suggestCharts:', error);\n",
              "      }\n",
              "      quickchartButtonEl.classList.remove('colab-df-spinner');\n",
              "      quickchartButtonEl.classList.add('colab-df-quickchart-complete');\n",
              "    }\n",
              "    (() => {\n",
              "      let quickchartButtonEl =\n",
              "        document.querySelector('#df-417fea99-b47f-4dae-8b41-990a33c077e8 button');\n",
              "      quickchartButtonEl.style.display =\n",
              "        google.colab.kernel.accessAllowed ? 'block' : 'none';\n",
              "    })();\n",
              "  </script>\n",
              "</div>\n",
              "    </div>\n",
              "  </div>\n"
            ],
            "application/vnd.google.colaboratory.intrinsic+json": {
              "type": "dataframe",
              "variable_name": "log_df",
              "summary": "{\n  \"name\": \"log_df\",\n  \"rows\": 2000,\n  \"fields\": [\n    {\n      \"column\": \"id\",\n      \"properties\": {\n        \"dtype\": \"number\",\n        \"std\": 577,\n        \"min\": 2001,\n        \"max\": 4000,\n        \"num_unique_values\": 2000,\n        \"samples\": [\n          3861,\n          2354,\n          3334\n        ],\n        \"semantic_type\": \"\",\n        \"description\": \"\"\n      }\n    },\n    {\n      \"column\": \"Date\",\n      \"properties\": {\n        \"dtype\": \"object\",\n        \"num_unique_values\": 1112,\n        \"samples\": [\n          \"2015-10-18 18:04:50,755\",\n          \"2015-10-18 18:06:16,029\",\n          \"2015-10-18 18:02:00,963\"\n        ],\n        \"semantic_type\": \"\",\n        \"description\": \"\"\n      }\n    },\n    {\n      \"column\": \"Level\",\n      \"properties\": {\n        \"dtype\": \"category\",\n        \"num_unique_values\": 4,\n        \"samples\": [\n          \"ERROR\",\n          \"FATAL\",\n          \"INFO\"\n        ],\n        \"semantic_type\": \"\",\n        \"description\": \"\"\n      }\n    },\n    {\n      \"column\": \"Process Name\",\n      \"properties\": {\n        \"dtype\": \"category\",\n        \"num_unique_values\": 56,\n        \"samples\": [\n          \"[main]\",\n          \"[Socket Reader #1 for port 62270]\",\n          \"[IPC Server handler 23 on 62270]\"\n        ],\n        \"semantic_type\": \"\",\n        \"description\": \"\"\n      }\n    },\n    {\n      \"column\": \"Component\",\n      \"properties\": {\n        \"dtype\": \"category\",\n        \"num_unique_values\": 56,\n        \"samples\": [\n          \"main\",\n          \"Socket Reader #1 for port 62270\",\n          \"IPC Server handler 23 on 62270\"\n        ],\n        \"semantic_type\": \"\",\n        \"description\": \"\"\n      }\n    },\n    {\n      \"column\": \"Message\",\n      \"properties\": {\n        \"dtype\": \"category\",\n        \"num_unique_values\": 31,\n        \"samples\": [\n          \"org.apache.hadoop.ipc.Client\",\n          \"org.apache.hadoop.mapreduce.v2.app.speculate.DefaultSpeculator\",\n          \"org.apache.hadoop.mapreduce.v2.app.job.impl.TaskImpl\"\n        ],\n        \"semantic_type\": \"\",\n        \"description\": \"\"\n      }\n    }\n  ]\n}"
            }
          },
          "metadata": {},
          "execution_count": 14
        }
      ]
    },
    {
      "cell_type": "markdown",
      "source": [
        "График распределения уровней логирования"
      ],
      "metadata": {
        "id": "PXHnLdgj7mV_"
      }
    },
    {
      "cell_type": "code",
      "source": [
        "import matplotlib.pyplot as plt\n",
        "\n",
        "log_level_distrib = log_df['Level'].value_counts()\n",
        "\n",
        "x = log_level_distrib.keys()\n",
        "y = log_level_distrib.values\n",
        "\n",
        "# более подробные заголовки для графика\n",
        "verbose_xticks = [\"FATAL\", \"ERROR\", \"WARN\", \"INFO\"]\n",
        "\n",
        "plt.xticks([0,1,2,3], verbose_xticks)\n",
        "plt.xticks(rotation=0)\n",
        "plt.xlabel('Уровень')\n",
        "plt.ylabel('Кол-во записей')\n",
        "plt.bar(x,y, color = ['red', 'yellow', 'green', 'grey'])\n",
        "\n",
        "plt.show()"
      ],
      "metadata": {
        "colab": {
          "base_uri": "https://localhost:8080/",
          "height": 449
        },
        "id": "DXYGhNYK71ki",
        "outputId": "d92f5a92-40c2-44b9-9013-b1bd2fc2fcfb"
      },
      "execution_count": 30,
      "outputs": [
        {
          "output_type": "display_data",
          "data": {
            "text/plain": [
              "<Figure size 640x480 with 1 Axes>"
            ],
            "image/png": "[encoded data removed]"
          },
          "metadata": {}
        }
      ]
    },
    {
      "cell_type": "markdown",
      "source": [
        "График распределения записей по топ процессам, создавшим запись"
      ],
      "metadata": {
        "id": "cRq9jABx-ZNh"
      }
    },
    {
      "cell_type": "code",
      "source": [
        "components_distrib = log_df['Process Name'].value_counts()[:7]\n",
        "\n",
        "components_distrib.plot(kind='bar')\n",
        "\n",
        "plt.xlabel('Процессы')\n",
        "plt.ylabel('Записи')\n",
        "plt.show()"
      ],
      "metadata": {
        "colab": {
          "base_uri": "https://localhost:8080/",
          "height": 731
        },
        "id": "sbWhzTar-V1-",
        "outputId": "420dde3f-ec7c-4edc-9660-a59626e8bbf0"
      },
      "execution_count": 37,
      "outputs": [
        {
          "output_type": "display_data",
          "data": {
            "text/plain": [
              "<Figure size 640x480 with 1 Axes>"
            ],
            "image/png": "[encoded data removed]"
          },
          "metadata": {}
        }
      ]
    },
    {
      "cell_type": "markdown",
      "source": [
        "График распределения появления ошибок за время логирования"
      ],
      "metadata": {
        "id": "_68Clhqm-VE7"
      }
    },
    {
      "cell_type": "code",
      "source": [
        "# выборка записей-предупреждений\n",
        "warning_df = log_df[log_df['Level'] == 'ERROR'].copy()\n",
        "\n",
        "# конвертация времени в объект datetime\n",
        "warning_df['Date'] = pd.to_datetime(warning_df['Date'])\n",
        "\n",
        "# группировка по времени\n",
        "warning_count = warning_df.groupby('Date').size()\n",
        "\n",
        "# ресэмплинг для группировки по целым секундам для наглядности\n",
        "warning_count = warning_count.resample('T').sum()\n",
        "warning_count = warning_count.fillna(0)\n",
        "\n",
        "plt.plot(warning_count.index, warning_count.values, linestyle='-', color='b')\n",
        "plt.xlabel('Time')\n",
        "plt.ylabel('Errors')\n",
        "plt.grid(True)\n",
        "plt.show()"
      ],
      "metadata": {
        "colab": {
          "base_uri": "https://localhost:8080/",
          "height": 449
        },
        "id": "KdzqPFDz-VSt",
        "outputId": "9957d363-04d1-4314-d23f-d894c4713269"
      },
      "execution_count": 36,
      "outputs": [
        {
          "output_type": "display_data",
          "data": {
            "text/plain": [
              "<Figure size 640x480 with 1 Axes>"
            ],
            "image/png": "[encoded data removed]"
          },
          "metadata": {}
        }
      ]
    }
  ]
}